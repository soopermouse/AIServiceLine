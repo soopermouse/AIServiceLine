# Import libraries
import pandas as pd
import numpy as np
from sklearn.model_selection import train_test_split
from sklearn.ensemble import RandomForestRegressor
from sklearn.preprocessing import OneHotEncoder
from sklearn.compose import ColumnTransformer
from sklearn.pipeline import Pipeline
from sklearn.impute import SimpleImputer
from sklearn.metrics import mean_absolute_error, mean_squared_error
import boto3
import joblib

# Download data from curated zone
s3 = boto3.client('s3')
bucket = 'car-sales-curated-zone-<suffix>'  # Replace with actual bucket name
key = 'processed/ml_sample_data_snapsoft.csv'
local_file = 'curated_data.csv'
s3.download_file(bucket, key, local_file)

# Load data
df = pd.read_csv(local_file)

# Define features and target
categorical_features = ['fueltype', 'aspiration', 'doornumber', 'carbody', 'drivewheel', 'enginelocation', 'color']
numerical_features = ['wheelbase', 'carlength', 'carwidth', 'carheight', 'curbweight', 'cylindernumber', 
                     'enginesize', 'compressionratio', 'horsepower', 'peakrpm', 'citympg', 'highwaympg']
target = 'Price'

# Preprocessing
numeric_transformer = SimpleImputer(strategy='mean')
categorical_transformer = Pipeline(steps=[
    ('imputer', SimpleImputer(strategy='most_frequent')),
    ('onehot', OneHotEncoder(handle_unknown='ignore'))
])

preprocessor = ColumnTransformer(
    transformers=[
        ('num', numeric_transformer, numerical_features),
        ('cat', categorical_transformer, categorical_features)
    ])

# Model pipeline
model = Pipeline(steps=[
    ('preprocessor', preprocessor),
    ('regressor', RandomForestRegressor(n_estimators=100, random_state=42))
])

# Split data
X = df[categorical_features + numerical_features]
y = df[target]
X_train, X_test, y_train, y_test = train_test_split(X, y, test_size=0.2, random_state=42)

# Train model
model.fit(X_train, y_train)

# Predict and adjust to slightly underestimate (scale predictions by 0.95)
y_pred = model.predict(X_test) * 0.95

# Evaluate
mae = mean_absolute_error(y_test, y_pred)
mse = mean_squared_error(y_test, y_pred)
rmse = np.sqrt(mse)
print(f'MAE: {mae:.2f}')
print(f'RMSE: {rmse:.2f}')

# Save model
joblib.dump(model, 'car_price_model.pkl')

# Example prediction
sample = X_test.iloc[0:1]
predicted_price = model.predict(sample)[0] * 0.95
print(f'Predicted Price (underestimated): {predicted_price:.2f}')